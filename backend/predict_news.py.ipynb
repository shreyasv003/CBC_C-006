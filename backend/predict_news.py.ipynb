{
 "cells": [
  {
   "cell_type": "code",
   "execution_count": 1,
   "id": "73d87a6a-39c3-4142-b3bc-e0cad3b2009b",
   "metadata": {},
   "outputs": [],
   "source": [
    "import joblib"
   ]
  },
  {
   "cell_type": "code",
   "execution_count": 2,
   "id": "ed3ba801-c8a2-4713-a7dd-e6d39b637abb",
   "metadata": {},
   "outputs": [],
   "source": [
    "# Load the trained model and vectorizer\n",
    "model, vectorizer = joblib.load(\"./model.joblib\")"
   ]
  },
  {
   "cell_type": "code",
   "execution_count": 3,
   "id": "d3294f78-da15-41eb-ac2e-9700f0ee86b7",
   "metadata": {},
   "outputs": [],
   "source": [
    "def predict_headline(headline):\n",
    "    # Transform the headline into the same vectorized form as the training data\n",
    "    X_new = vectorizer.transform([headline])\n",
    "    \n",
    "    # Predict the label (0 or 1)\n",
    "    prediction = model.predict(X_new)\n",
    "    \n",
    "    # Return the prediction (Safe or Unsafe)\n",
    "    if prediction == 1:\n",
    "        return \"Safe\"\n",
    "    else:\n",
    "        return \"Unsafe\""
   ]
  },
  {
   "cell_type": "code",
   "execution_count": 4,
   "id": "26d82901-1e7d-4ac9-a465-f6806d3cd198",
   "metadata": {},
   "outputs": [
    {
     "name": "stdout",
     "output_type": "stream",
     "text": [
      "Prediction: Unsafe\n"
     ]
    }
   ],
   "source": [
    "headline_to_predict = \"flood in rr nagar\"\n",
    "prediction = predict_headline(headline_to_predict)\n",
    "print(f\"Prediction: {prediction}\")"
   ]
  },
  {
   "cell_type": "code",
   "execution_count": null,
   "id": "761b46e7-988e-43a0-91ea-c5fb3330f34e",
   "metadata": {},
   "outputs": [],
   "source": []
  }
 ],
 "metadata": {
  "kernelspec": {
   "display_name": "Python 3 (ipykernel)",
   "language": "python",
   "name": "python3"
  },
  "language_info": {
   "codemirror_mode": {
    "name": "ipython",
    "version": 3
   },
   "file_extension": ".py",
   "mimetype": "text/x-python",
   "name": "python",
   "nbconvert_exporter": "python",
   "pygments_lexer": "ipython3",
   "version": "3.12.7"
  }
 },
 "nbformat": 4,
 "nbformat_minor": 5
}
